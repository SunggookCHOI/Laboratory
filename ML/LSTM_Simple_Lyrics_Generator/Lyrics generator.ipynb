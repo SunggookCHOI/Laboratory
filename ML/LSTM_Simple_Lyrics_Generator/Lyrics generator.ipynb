{
 "cells": [
  {
   "cell_type": "code",
   "execution_count": 1,
   "metadata": {},
   "outputs": [],
   "source": [
    "import keras\n",
    "import numpy as np\n",
    "from keras.models import Sequential\n",
    "from keras.layers import Dense\n",
    "from keras.layers import LSTM\n",
    "from keras.utils import np_utils\n",
    "\n",
    "from konlpy.tag import Kkma\n",
    "from konlpy.utils import pprint"
   ]
  },
  {
   "cell_type": "code",
   "execution_count": 2,
   "metadata": {},
   "outputs": [],
   "source": [
    "def one_hot_encoding(num):\n",
    "    tmp = [0 for i in range(len(word2idx))]\n",
    "    tmp[num] = 1\n",
    "    return tmp"
   ]
  },
  {
   "cell_type": "code",
   "execution_count": 3,
   "metadata": {},
   "outputs": [],
   "source": [
    "kkma = Kkma()\n",
    "f = open('lyrics.txt', 'r')\n",
    "lyrics = f.read()\n",
    "tokens = kkma.pos(lyrics)\n",
    "word2idx = {}\n",
    "idx2word = {}\n",
    "for i,v in enumerate(set([x[0] for x in kkma.pos(lyrics)])):\n",
    "    word2idx[v]=i\n",
    "    idx2word[i]=v\n",
    "bow = [word2idx[token] for token,_ in tokens]\n",
    "\n",
    "seq = np.array([one_hot_encoding(x) for x in bow])"
   ]
  },
  {
   "cell_type": "code",
   "execution_count": 4,
   "metadata": {},
   "outputs": [],
   "source": [
    "x_train = []\n",
    "y_train = []"
   ]
  },
  {
   "cell_type": "code",
   "execution_count": 5,
   "metadata": {},
   "outputs": [],
   "source": [
    "window_size = 4\n",
    "for i in range(window_size,len(seq)):\n",
    "    x_train.append(seq[i-4:i])\n",
    "    y_train.append(seq[i])\n",
    "x_train, y_train = np.array(x_train), np.array(y_train)"
   ]
  },
  {
   "cell_type": "code",
   "execution_count": 6,
   "metadata": {},
   "outputs": [
    {
     "name": "stdout",
     "output_type": "stream",
     "text": [
      "(337, 4, 99) (337, 99)\n"
     ]
    }
   ],
   "source": [
    "print(x_train.shape, y_train.shape)"
   ]
  },
  {
   "cell_type": "code",
   "execution_count": 7,
   "metadata": {},
   "outputs": [],
   "source": [
    "# 3. 모델 구성하기\n",
    "model = Sequential()\n",
    "model.add(LSTM(128, input_shape = (window_size, seq.shape[1])))\n",
    "model.add(Dense(seq.shape[1], activation='softmax'))"
   ]
  },
  {
   "cell_type": "code",
   "execution_count": 8,
   "metadata": {
    "scrolled": true
   },
   "outputs": [],
   "source": [
    "# 4. 모델 학습과정 설정하기\n",
    "model.compile(loss='categorical_crossentropy', optimizer='adam', metrics=['accuracy'])"
   ]
  },
  {
   "cell_type": "code",
   "execution_count": 9,
   "metadata": {
    "scrolled": true
   },
   "outputs": [
    {
     "name": "stdout",
     "output_type": "stream",
     "text": [
      "Epoch 1/30\n",
      "85/85 - 0s - loss: 4.5276 - accuracy: 0.0920\n",
      "Epoch 2/30\n",
      "85/85 - 0s - loss: 3.9352 - accuracy: 0.1157\n",
      "Epoch 3/30\n",
      "85/85 - 0s - loss: 3.1557 - accuracy: 0.2700\n",
      "Epoch 4/30\n",
      "85/85 - 0s - loss: 2.4842 - accuracy: 0.3828\n",
      "Epoch 5/30\n",
      "85/85 - 0s - loss: 2.0420 - accuracy: 0.5104\n",
      "Epoch 6/30\n",
      "85/85 - 0s - loss: 1.7001 - accuracy: 0.5905\n",
      "Epoch 7/30\n",
      "85/85 - 0s - loss: 1.4377 - accuracy: 0.6291\n",
      "Epoch 8/30\n",
      "85/85 - 0s - loss: 1.1758 - accuracy: 0.6944\n",
      "Epoch 9/30\n",
      "85/85 - 0s - loss: 0.9519 - accuracy: 0.7418\n",
      "Epoch 10/30\n",
      "85/85 - 0s - loss: 0.7566 - accuracy: 0.7953\n",
      "Epoch 11/30\n",
      "85/85 - 0s - loss: 0.6358 - accuracy: 0.8516\n",
      "Epoch 12/30\n",
      "85/85 - 0s - loss: 0.5327 - accuracy: 0.8605\n",
      "Epoch 13/30\n",
      "85/85 - 0s - loss: 0.4531 - accuracy: 0.8813\n",
      "Epoch 14/30\n",
      "85/85 - 0s - loss: 0.4101 - accuracy: 0.8902\n",
      "Epoch 15/30\n",
      "85/85 - 0s - loss: 0.3728 - accuracy: 0.8813\n",
      "Epoch 16/30\n",
      "85/85 - 0s - loss: 0.3270 - accuracy: 0.9139\n",
      "Epoch 17/30\n",
      "85/85 - 0s - loss: 0.3090 - accuracy: 0.9021\n",
      "Epoch 18/30\n",
      "85/85 - 0s - loss: 0.2834 - accuracy: 0.8991\n",
      "Epoch 19/30\n",
      "85/85 - 0s - loss: 0.2574 - accuracy: 0.9169\n",
      "Epoch 20/30\n",
      "85/85 - 0s - loss: 0.2451 - accuracy: 0.9139\n",
      "Epoch 21/30\n",
      "85/85 - 0s - loss: 0.2314 - accuracy: 0.9199\n",
      "Epoch 22/30\n",
      "85/85 - 0s - loss: 0.2169 - accuracy: 0.9169\n",
      "Epoch 23/30\n",
      "85/85 - 0s - loss: 0.2133 - accuracy: 0.9258\n",
      "Epoch 24/30\n",
      "85/85 - 0s - loss: 0.2080 - accuracy: 0.9199\n",
      "Epoch 25/30\n",
      "85/85 - 0s - loss: 0.1940 - accuracy: 0.9110\n",
      "Epoch 26/30\n",
      "85/85 - 0s - loss: 0.1898 - accuracy: 0.9377\n",
      "Epoch 27/30\n",
      "85/85 - 0s - loss: 0.1848 - accuracy: 0.9288\n",
      "Epoch 28/30\n",
      "85/85 - 0s - loss: 0.1710 - accuracy: 0.9258\n",
      "Epoch 29/30\n",
      "85/85 - 0s - loss: 0.1630 - accuracy: 0.9407\n",
      "Epoch 30/30\n",
      "85/85 - 0s - loss: 0.1572 - accuracy: 0.9436\n"
     ]
    },
    {
     "data": {
      "text/plain": [
       "<tensorflow.python.keras.callbacks.History at 0x7fae18ea5f40>"
      ]
     },
     "execution_count": 9,
     "metadata": {},
     "output_type": "execute_result"
    }
   ],
   "source": [
    "# 5. 모델 학습시키기\n",
    "model.fit(x_train, y_train, epochs=30, batch_size=4, verbose=2)"
   ]
  },
  {
   "cell_type": "code",
   "execution_count": 10,
   "metadata": {},
   "outputs": [],
   "source": [
    "#인풋 데이터\n",
    "ini = '가을이긴 한가 봐'"
   ]
  },
  {
   "cell_type": "code",
   "execution_count": 11,
   "metadata": {},
   "outputs": [],
   "source": [
    "ini = [one_hot_encoding(word2idx[x]) for x,_ in kkma.pos(ini)]"
   ]
  },
  {
   "cell_type": "code",
   "execution_count": null,
   "metadata": {},
   "outputs": [],
   "source": []
  },
  {
   "cell_type": "code",
   "execution_count": 12,
   "metadata": {},
   "outputs": [],
   "source": [
    "out = []"
   ]
  },
  {
   "cell_type": "code",
   "execution_count": 13,
   "metadata": {},
   "outputs": [],
   "source": [
    "i = len(ini)\n",
    "while i < 200:\n",
    "    tmp_in = np.array(ini[i-4:i]).reshape((-1,4,99))\n",
    "#     print('------')\n",
    "#     print(tmp_in)\n",
    "    tmp_pred = model.predict(tmp_in)\n",
    "    pred_idx= np.argmax(tmp_pred)\n",
    "    ini.append(one_hot_encoding(pred_idx))\n",
    "    out.append(idx2word[pred_idx])\n",
    "    i += 1"
   ]
  },
  {
   "cell_type": "code",
   "execution_count": 14,
   "metadata": {},
   "outputs": [
    {
     "data": {
      "text/plain": [
       "['괜히',\n",
       " '설레',\n",
       " 'ㄴ',\n",
       " '것',\n",
       " '을',\n",
       " '보',\n",
       " '니',\n",
       " '벌써',\n",
       " '가을',\n",
       " '이',\n",
       " '한창',\n",
       " '물들',\n",
       " '었',\n",
       " '나',\n",
       " '보',\n",
       " '아',\n",
       " '네',\n",
       " '가',\n",
       " '깊이',\n",
       " '들어오',\n",
       " '았',\n",
       " '나',\n",
       " '보',\n",
       " '아',\n",
       " '잘',\n",
       " '살',\n",
       " '냐',\n",
       " '느',\n",
       " 'ㄴ',\n",
       " '네',\n",
       " '인사',\n",
       " '에',\n",
       " '쉽',\n",
       " '게',\n",
       " '무너지',\n",
       " 'ㄴ',\n",
       " '것',\n",
       " '을',\n",
       " '보',\n",
       " '니',\n",
       " '벌써',\n",
       " '가을',\n",
       " '이',\n",
       " '한창',\n",
       " '물들',\n",
       " '었',\n",
       " '나',\n",
       " '보',\n",
       " '아',\n",
       " '네',\n",
       " '가',\n",
       " '깊이',\n",
       " '들어오',\n",
       " '았',\n",
       " '나',\n",
       " '보',\n",
       " '아',\n",
       " '잘',\n",
       " '살',\n",
       " '냐',\n",
       " '느',\n",
       " 'ㄴ',\n",
       " '네',\n",
       " '인사',\n",
       " '에',\n",
       " '쉽',\n",
       " '게',\n",
       " '무너지',\n",
       " 'ㄴ',\n",
       " '것',\n",
       " '을',\n",
       " '보',\n",
       " '니',\n",
       " '벌써',\n",
       " '가을',\n",
       " '이',\n",
       " '한창',\n",
       " '물들',\n",
       " '었',\n",
       " '나',\n",
       " '보',\n",
       " '아',\n",
       " '네',\n",
       " '가',\n",
       " '깊이',\n",
       " '들어오',\n",
       " '았',\n",
       " '나',\n",
       " '보',\n",
       " '아',\n",
       " '잘',\n",
       " '살',\n",
       " '냐',\n",
       " '느',\n",
       " 'ㄴ',\n",
       " '네',\n",
       " '인사',\n",
       " '에',\n",
       " '쉽',\n",
       " '게',\n",
       " '무너지',\n",
       " 'ㄴ',\n",
       " '것',\n",
       " '을',\n",
       " '보',\n",
       " '니',\n",
       " '벌써',\n",
       " '가을',\n",
       " '이',\n",
       " '한창',\n",
       " '물들',\n",
       " '었',\n",
       " '나',\n",
       " '보',\n",
       " '아',\n",
       " '네',\n",
       " '가',\n",
       " '깊이',\n",
       " '들어오',\n",
       " '았',\n",
       " '나',\n",
       " '보',\n",
       " '아',\n",
       " '잘',\n",
       " '살',\n",
       " '냐',\n",
       " '느',\n",
       " 'ㄴ',\n",
       " '네',\n",
       " '인사',\n",
       " '에',\n",
       " '쉽',\n",
       " '게',\n",
       " '무너지',\n",
       " 'ㄴ',\n",
       " '것',\n",
       " '을',\n",
       " '보',\n",
       " '니',\n",
       " '벌써',\n",
       " '가을',\n",
       " '이',\n",
       " '한창',\n",
       " '물들',\n",
       " '었',\n",
       " '나',\n",
       " '보',\n",
       " '아',\n",
       " '네',\n",
       " '가',\n",
       " '깊이',\n",
       " '들어오',\n",
       " '았',\n",
       " '나',\n",
       " '보',\n",
       " '아',\n",
       " '잘',\n",
       " '살',\n",
       " '냐',\n",
       " '느',\n",
       " 'ㄴ',\n",
       " '네',\n",
       " '인사',\n",
       " '에',\n",
       " '쉽',\n",
       " '게',\n",
       " '무너지',\n",
       " 'ㄴ',\n",
       " '것',\n",
       " '을',\n",
       " '보',\n",
       " '니',\n",
       " '벌써',\n",
       " '가을',\n",
       " '이',\n",
       " '한창',\n",
       " '물들',\n",
       " '었',\n",
       " '나',\n",
       " '보',\n",
       " '아',\n",
       " '네',\n",
       " '가',\n",
       " '깊이',\n",
       " '들어오',\n",
       " '았',\n",
       " '나',\n",
       " '보',\n",
       " '아',\n",
       " '잘',\n",
       " '살',\n",
       " '냐',\n",
       " '느',\n",
       " 'ㄴ']"
      ]
     },
     "execution_count": 14,
     "metadata": {},
     "output_type": "execute_result"
    }
   ],
   "source": [
    "out"
   ]
  },
  {
   "cell_type": "code",
   "execution_count": null,
   "metadata": {},
   "outputs": [],
   "source": []
  }
 ],
 "metadata": {
  "kernelspec": {
   "display_name": "Python 3",
   "language": "python",
   "name": "python3"
  },
  "language_info": {
   "codemirror_mode": {
    "name": "ipython",
    "version": 3
   },
   "file_extension": ".py",
   "mimetype": "text/x-python",
   "name": "python",
   "nbconvert_exporter": "python",
   "pygments_lexer": "ipython3",
   "version": "3.8.3"
  }
 },
 "nbformat": 4,
 "nbformat_minor": 4
}
