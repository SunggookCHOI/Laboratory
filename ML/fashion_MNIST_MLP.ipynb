{
  "nbformat": 4,
  "nbformat_minor": 0,
  "metadata": {
    "colab": {
      "name": "Untitled1.ipynb",
      "provenance": [],
      "collapsed_sections": []
    },
    "kernelspec": {
      "name": "python3",
      "display_name": "Python 3"
    },
    "accelerator": "GPU"
  },
  "cells": [
    {
      "cell_type": "markdown",
      "metadata": {
        "id": "IFB1l9TOWHQY",
        "colab_type": "text"
      },
      "source": [
        "# 텐서플로우 2버전대를 활용한 fashion MNIST 분류기 생성\n",
        "https://www.edwith.org/boostcourse-dl-tensorflow/joinLectures/25072 의 파트2 부분을 학습한 내용입니다."
      ]
    },
    {
      "cell_type": "code",
      "metadata": {
        "id": "3NXvhU-MjxU4",
        "colab_type": "code",
        "outputId": "7af8e92b-1c9e-4d08-e6c7-a5f36c80395c",
        "colab": {
          "base_uri": "https://localhost:8080/",
          "height": 35
        }
      },
      "source": [
        "%tensorflow_version 2.x"
      ],
      "execution_count": 1,
      "outputs": [
        {
          "output_type": "stream",
          "text": [
            "TensorFlow 2.x selected.\n"
          ],
          "name": "stdout"
        }
      ]
    },
    {
      "cell_type": "code",
      "metadata": {
        "id": "1Tc8e4xtj2wj",
        "colab_type": "code",
        "outputId": "e5502b8e-3094-4eb2-8c51-c77f717776c0",
        "colab": {
          "base_uri": "https://localhost:8080/",
          "height": 107
        }
      },
      "source": [
        "from __future__ import absolute_import\n",
        "from __future__ import division\n",
        "from __future__ import print_function\n",
        "from __future__ import unicode_literals\n",
        "\n",
        "from IPython.display import clear_output\n",
        "\n",
        "import os\n",
        "import time\n",
        "import numpy as np\n",
        "import matplotlib.pyplot as plt\n",
        "%matplotlib inline\n",
        "\n",
        "import tensorflow as tf\n",
        "from tensorflow.keras import layers\n",
        "\n",
        "print('tensorflow version: {}'.format(tf.__version__))\n",
        "print('GPU 사용 가능 여부: {}'.format(tf.test.is_gpu_available()))"
      ],
      "execution_count": 2,
      "outputs": [
        {
          "output_type": "stream",
          "text": [
            "tensorflow version: 2.1.0\n",
            "WARNING:tensorflow:From <ipython-input-2-f2882d89f4f2>:18: is_gpu_available (from tensorflow.python.framework.test_util) is deprecated and will be removed in a future version.\n",
            "Instructions for updating:\n",
            "Use `tf.config.list_physical_devices('GPU')` instead.\n",
            "GPU 사용 가능 여부: True\n"
          ],
          "name": "stdout"
        }
      ]
    },
    {
      "cell_type": "markdown",
      "metadata": {
        "id": "8ml4fPXrUlVB",
        "colab_type": "text"
      },
      "source": [
        "# Fashion MNIST 데이터 불러오기"
      ]
    },
    {
      "cell_type": "code",
      "metadata": {
        "id": "CU7QuGa6kNdZ",
        "colab_type": "code",
        "outputId": "f94e889b-6ac2-4bba-faab-06e14a9fb9a3",
        "colab": {
          "base_uri": "https://localhost:8080/",
          "height": 161
        }
      },
      "source": [
        "# Load training and eval data from tf.keras\n",
        "(train_data, train_labels), (test_data, test_labels) = \\\n",
        "    tf.keras.datasets.fashion_mnist.load_data()\n",
        "\n",
        "train_data = train_data / 255.\n",
        "train_data = train_data.reshape([-1, 28 * 28])\n",
        "train_data = train_data.astype(np.float32)\n",
        "train_labels = train_labels.astype(np.int32)\n",
        "\n",
        "test_data = test_data / 255.\n",
        "test_data = test_data.reshape([-1, 28 * 28])\n",
        "test_data = test_data.astype(np.float32)\n",
        "test_labels = test_labels.astype(np.int32)"
      ],
      "execution_count": 3,
      "outputs": [
        {
          "output_type": "stream",
          "text": [
            "Downloading data from https://storage.googleapis.com/tensorflow/tf-keras-datasets/train-labels-idx1-ubyte.gz\n",
            "32768/29515 [=================================] - 0s 0us/step\n",
            "Downloading data from https://storage.googleapis.com/tensorflow/tf-keras-datasets/train-images-idx3-ubyte.gz\n",
            "26427392/26421880 [==============================] - 0s 0us/step\n",
            "Downloading data from https://storage.googleapis.com/tensorflow/tf-keras-datasets/t10k-labels-idx1-ubyte.gz\n",
            "8192/5148 [===============================================] - 0s 0us/step\n",
            "Downloading data from https://storage.googleapis.com/tensorflow/tf-keras-datasets/t10k-images-idx3-ubyte.gz\n",
            "4423680/4422102 [==============================] - 0s 0us/step\n"
          ],
          "name": "stdout"
        }
      ]
    },
    {
      "cell_type": "markdown",
      "metadata": {
        "id": "afXs0LIWUrjY",
        "colab_type": "text"
      },
      "source": [
        "# 하이퍼 파라미터"
      ]
    },
    {
      "cell_type": "code",
      "metadata": {
        "id": "VOpOPWnhkYtJ",
        "colab_type": "code",
        "colab": {}
      },
      "source": [
        "batch_size = 128\n",
        "max_epochs = 10\n",
        "learning_rate = 0.00003\n",
        "num_classes = 10"
      ],
      "execution_count": 0,
      "outputs": []
    },
    {
      "cell_type": "code",
      "metadata": {
        "id": "atQzXAehkP3e",
        "colab_type": "code",
        "outputId": "98e231e3-e3fa-492c-9383-c760f32d095b",
        "colab": {
          "base_uri": "https://localhost:8080/",
          "height": 71
        }
      },
      "source": [
        "# for train\n",
        "N = len(train_data)\n",
        "print(N)\n",
        "\n",
        "train_dataset = tf.data.Dataset.from_tensor_slices((train_data, train_labels))\n",
        "train_dataset = train_dataset.shuffle(N*10)\n",
        "train_dataset = train_dataset.batch(batch_size)\n",
        "train_dataset = train_dataset.repeat()\n",
        "\n",
        "\n",
        "print(train_dataset)\n",
        "\n",
        "# for test\n",
        "\n",
        "test_dataset = tf.data.Dataset.from_tensor_slices((test_data, test_labels))\n",
        "test_dataset = train_dataset.batch(batch_size)\n",
        "test_dataset = train_dataset.repeat()\n",
        "\n",
        "\n",
        "print(test_dataset)"
      ],
      "execution_count": 10,
      "outputs": [
        {
          "output_type": "stream",
          "text": [
            "60000\n",
            "<RepeatDataset shapes: ((None, 784), (None,)), types: (tf.float32, tf.int32)>\n",
            "<RepeatDataset shapes: ((None, 784), (None,)), types: (tf.float32, tf.int32)>\n"
          ],
          "name": "stdout"
        }
      ]
    },
    {
      "cell_type": "markdown",
      "metadata": {
        "id": "bnvXT_umU_Bn",
        "colab_type": "text"
      },
      "source": [
        "# 모델 생성\n",
        "한개의 히든레이어(512개의 히든노드)"
      ]
    },
    {
      "cell_type": "code",
      "metadata": {
        "id": "oTZ0zRevkTD-",
        "colab_type": "code",
        "colab": {}
      },
      "source": [
        "model = tf.keras.Sequential() # Sequential 모델 생성\n",
        "\n",
        "model.add(tf.keras.layers.Dense(units=512, input_shape=(28*28,)))\n",
        "model.add(tf.keras.layers.BatchNormalization())\n",
        "model.add(tf.keras.layers.ReLU())\n",
        "model.add(tf.keras.layers.Dense(units=10))\n"
      ],
      "execution_count": 0,
      "outputs": []
    },
    {
      "cell_type": "code",
      "metadata": {
        "id": "q2SeZKl6knTm",
        "colab_type": "code",
        "colab": {}
      },
      "source": [
        "model.compile(optimizer = tf.keras.optimizers.Adam(learning_rate=learning_rate), \n",
        "              loss = tf.keras.losses.SparseCategoricalCrossentropy(), \n",
        "              metrics = ['accuracy'])"
      ],
      "execution_count": 0,
      "outputs": []
    },
    {
      "cell_type": "markdown",
      "metadata": {
        "id": "-vNbpOQMVtzL",
        "colab_type": "text"
      },
      "source": [
        "# 트레이닝 데이터 학습"
      ]
    },
    {
      "cell_type": "code",
      "metadata": {
        "id": "pbVAsk-xkqZ2",
        "colab_type": "code",
        "outputId": "15d7fb96-5f4a-4b19-d9fa-25cfb50e27d7",
        "colab": {
          "base_uri": "https://localhost:8080/",
          "height": 413
        }
      },
      "source": [
        "model.fit(train_dataset,steps_per_epoch=N/batch_size, epochs=max_epochs)"
      ],
      "execution_count": 13,
      "outputs": [
        {
          "output_type": "stream",
          "text": [
            "Train for 468.75 steps\n",
            "Epoch 1/10\n",
            "469/468 [==============================] - 2s 5ms/step - loss: 3.3823 - accuracy: 0.4491\n",
            "Epoch 2/10\n",
            "469/468 [==============================] - 2s 4ms/step - loss: 1.5004 - accuracy: 0.6049\n",
            "Epoch 3/10\n",
            "469/468 [==============================] - 2s 4ms/step - loss: 1.2904 - accuracy: 0.6565\n",
            "Epoch 4/10\n",
            "469/468 [==============================] - 2s 4ms/step - loss: 1.1775 - accuracy: 0.6563\n",
            "Epoch 5/10\n",
            "469/468 [==============================] - 2s 4ms/step - loss: 1.0870 - accuracy: 0.6656\n",
            "Epoch 6/10\n",
            "469/468 [==============================] - 2s 4ms/step - loss: 1.0407 - accuracy: 0.6886\n",
            "Epoch 7/10\n",
            "469/468 [==============================] - 2s 4ms/step - loss: 1.0750 - accuracy: 0.6525\n",
            "Epoch 8/10\n",
            "469/468 [==============================] - 2s 4ms/step - loss: 1.0462 - accuracy: 0.6652\n",
            "Epoch 9/10\n",
            "469/468 [==============================] - 2s 4ms/step - loss: 0.9945 - accuracy: 0.6978\n",
            "Epoch 10/10\n",
            "469/468 [==============================] - 2s 3ms/step - loss: 0.9648 - accuracy: 0.7351\n"
          ],
          "name": "stdout"
        },
        {
          "output_type": "execute_result",
          "data": {
            "text/plain": [
              "<tensorflow.python.keras.callbacks.History at 0x7f2d837b6b00>"
            ]
          },
          "metadata": {
            "tags": []
          },
          "execution_count": 13
        }
      ]
    },
    {
      "cell_type": "markdown",
      "metadata": {
        "id": "79FZQKXiVz4t",
        "colab_type": "text"
      },
      "source": [
        "# 테이트 데이터에 대한 검증"
      ]
    },
    {
      "cell_type": "code",
      "metadata": {
        "id": "wkkGMmHckzxP",
        "colab_type": "code",
        "colab": {
          "base_uri": "https://localhost:8080/",
          "height": 71
        },
        "outputId": "3d8b0a37-1361-4abf-e932-61fd3874fbc1"
      },
      "source": [
        "loss,accuracy = model.evaluate(test_dataset, steps = len(test_data)//batch_size)\n",
        "print('test loss is {}'.format(loss))\n",
        "print('test accuracy is {}'.format(accuracy))"
      ],
      "execution_count": 14,
      "outputs": [
        {
          "output_type": "stream",
          "text": [
            "78/78 [==============================] - 0s 5ms/step - loss: 0.9862 - accuracy: 0.7315\n",
            "test loss is 0.9862493918492243\n",
            "test accuracy is 0.7314703464508057\n"
          ],
          "name": "stdout"
        }
      ]
    },
    {
      "cell_type": "code",
      "metadata": {
        "id": "LpFquE9lVeLe",
        "colab_type": "code",
        "colab": {}
      },
      "source": [
        ""
      ],
      "execution_count": 0,
      "outputs": []
    }
  ]
}